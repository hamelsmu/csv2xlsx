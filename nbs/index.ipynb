{
 "cells": [
  {
   "cell_type": "markdown",
   "metadata": {},
   "source": [
    "# csv_to_xls\n",
    "\n",
    "> convert csvs to excel"
   ]
  },
  {
   "cell_type": "markdown",
   "metadata": {},
   "source": [
    "## Install"
   ]
  },
  {
   "cell_type": "markdown",
   "metadata": {},
   "source": [
    "```sh\n",
    "pip install csv_to_xls\n",
    "```"
   ]
  },
  {
   "cell_type": "markdown",
   "metadata": {},
   "source": [
    "## How to use\n",
    "\n",
    "When you install `csv_to_xls` you will get a cli tool named `csv2xls`:"
   ]
  },
  {
   "cell_type": "code",
   "execution_count": null,
   "metadata": {},
   "outputs": [
    {
     "name": "stdout",
     "output_type": "stream",
     "text": [
      "usage: csv2xls [-h] [--file_glob FILE_GLOB] [--out_file OUT_FILE] [--recursive]\n",
      "               [--delimiter DELIMITER] [--quotechar QUOTECHAR] [--symlinks]\n",
      "               [--file_re FILE_RE] [--folder_re FOLDER_RE]\n",
      "               [--skip_file_glob SKIP_FILE_GLOB] [--skip_file_re SKIP_FILE_RE]\n",
      "               [--skip_folder_re SKIP_FOLDER_RE]\n",
      "               path\n",
      "\n",
      "Convert csv file(s) into an excel file, if multiple csvs put on tabs.\n",
      "\n",
      "positional arguments:\n",
      "  path                             path to searching for *.csv files\n",
      "\n",
      "optional arguments:\n",
      "  -h, --help                       show this help message and exit\n",
      "  --file_glob FILE_GLOB            Only include files matching glob (default:\n",
      "                                   *.csv)\n",
      "  --out_file OUT_FILE              output excel file (default: output.xlsx)\n",
      "  --recursive                      search subfolders (default: False)\n",
      "  --delimiter DELIMITER            delimiter to use (default: ,)\n",
      "  --quotechar QUOTECHAR            quote character to escape the delimiter\n",
      "                                   (default: \")\n",
      "  --symlinks                       follow symlinks? (default: False)\n",
      "  --file_re FILE_RE                Only include files matching regex\n",
      "  --folder_re FOLDER_RE            Only enter folders matching regex\n",
      "  --skip_file_glob SKIP_FILE_GLOB  Skip files matching glob\n",
      "  --skip_file_re SKIP_FILE_RE      Skip files matching regex\n",
      "  --skip_folder_re SKIP_FOLDER_RE  Skip folders matching regex,\n"
     ]
    }
   ],
   "source": [
    "!csv2xls --help"
   ]
  },
  {
   "cell_type": "markdown",
   "metadata": {},
   "source": [
    "## Example"
   ]
  },
  {
   "cell_type": "markdown",
   "metadata": {},
   "source": [
    "Consider the below csv files:"
   ]
  },
  {
   "cell_type": "code",
   "execution_count": null,
   "metadata": {},
   "outputs": [
    {
     "name": "stdout",
     "output_type": "stream",
     "text": [
      "addresses.csv biostats.csv  faithful.csv  hw_200.csv    tally_cab.csv\n"
     ]
    }
   ],
   "source": [
    "!ls _tests/"
   ]
  },
  {
   "cell_type": "markdown",
   "metadata": {},
   "source": [
    "To merge these  csvs into one excel file named `merged.xlsx`:"
   ]
  },
  {
   "cell_type": "code",
   "execution_count": null,
   "metadata": {},
   "outputs": [],
   "source": [
    "!csv2xls _tests/ --out_file merged.xlsx"
   ]
  },
  {
   "cell_type": "markdown",
   "metadata": {},
   "source": [
    "We can see there is a worksheet for each filename:"
   ]
  },
  {
   "cell_type": "code",
   "execution_count": null,
   "metadata": {},
   "outputs": [
    {
     "data": {
      "text/plain": [
       "['addresses', 'biostats', 'hw_200', 'tally_cab', 'faithful']"
      ]
     },
     "execution_count": null,
     "metadata": {},
     "output_type": "execute_result"
    }
   ],
   "source": [
    "import pandas as pd\n",
    "pd.ExcelFile('merged.xlsx').sheet_names"
   ]
  },
  {
   "cell_type": "markdown",
   "metadata": {},
   "source": [
    "Let's say we want to skip the `biostats.csv` file, we can use the `--skip_file_re` arg:"
   ]
  },
  {
   "cell_type": "code",
   "execution_count": null,
   "metadata": {},
   "outputs": [],
   "source": [
    "#|eval: false\n",
    "!rm -f merged.xlsx\n",
    "!csv2xls _tests/ --out_file merged.xlsx --skip_file_re 'biostats*'"
   ]
  },
  {
   "cell_type": "markdown",
   "metadata": {},
   "source": [
    "Now that particular sheet is not there:"
   ]
  },
  {
   "cell_type": "code",
   "execution_count": null,
   "metadata": {},
   "outputs": [
    {
     "data": {
      "text/plain": [
       "['addresses', 'hw_200', 'tally_cab', 'faithful']"
      ]
     },
     "execution_count": null,
     "metadata": {},
     "output_type": "execute_result"
    }
   ],
   "source": [
    "pd.ExcelFile('merged.xlsx').sheet_names"
   ]
  },
  {
   "cell_type": "code",
   "execution_count": null,
   "metadata": {},
   "outputs": [],
   "source": [
    "#|hide\n",
    "#|eval: false\n",
    "!rm -f merged.xlsx"
   ]
  }
 ],
 "metadata": {
  "kernelspec": {
   "display_name": "python3",
   "language": "python",
   "name": "python3"
  }
 },
 "nbformat": 4,
 "nbformat_minor": 4
}
