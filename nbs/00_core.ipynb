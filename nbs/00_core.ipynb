{
 "cells": [
  {
   "cell_type": "markdown",
   "metadata": {},
   "source": [
    "# core\n",
    "\n",
    "> Fill in a module description here"
   ]
  },
  {
   "cell_type": "code",
   "execution_count": null,
   "metadata": {},
   "outputs": [],
   "source": [
    "#| default_exp core"
   ]
  },
  {
   "cell_type": "code",
   "execution_count": null,
   "metadata": {},
   "outputs": [],
   "source": [
    "#| export\n",
    "import pandas as pd\n",
    "from fastcore.script import call_parse\n",
    "from fastcore.utils import globtastic\n",
    "from pathlib import Path\n",
    "import os"
   ]
  },
  {
   "cell_type": "code",
   "execution_count": null,
   "metadata": {},
   "outputs": [],
   "source": [
    "#|export\n",
    "@call_parse\n",
    "def convert(path:str, # path to searching for *.csv files\n",
    "             file_glob:str='*.csv', # Only include files matching glob\n",
    "             out_file:str='output.xlsx', # output excel file\n",
    "             recursive:bool=True, # search subfolders\n",
    "             symlinks:bool=True, # follow symlinks?\n",
    "             file_re:str=None, # Only include files matching regex\n",
    "             folder_re:str=None, # Only enter folders matching regex\n",
    "             skip_file_glob:str=None, # Skip files matching glob\n",
    "             skip_file_re:str=None, # Skip files matching regex\n",
    "             skip_folder_re:str=None, # Skip folders matching regex,\n",
    "             ):\n",
    "    \"Convert csv file(s) into an excel file, if multiple csvs put on tabs.\"\n",
    "    csvs = globtastic(path=path, recursive=recursive, symlinks=symlinks,\n",
    "                       file_glob=file_glob, file_re=file_re, skip_file_glob=skip_file_glob,\n",
    "                       skip_file_re=skip_file_re, skip_folder_re=skip_folder_re).map(Path)            \n",
    "        \n",
    "    with pd.ExcelWriter(out_file) as writer:\n",
    "        for csv in csvs:\n",
    "            sheet_name=csv.name[:-4]\n",
    "            pd.read_csv(csv).to_excel(writer, sheet_name=sheet_name, index=False)"
   ]
  },
  {
   "cell_type": "code",
   "execution_count": null,
   "metadata": {},
   "outputs": [],
   "source": [
    "#|hide\n",
    "outfile = Path('output.xlsx')\n",
    "if outfile.exists(): outfile.unlink()\n",
    "_ = convert('_tests/')\n",
    "xls = pd.ExcelFile('output.xlsx')\n",
    "assert xls.sheet_names == ['addresses', 'biostats', 'hw_200', 'tally_cab', 'faithful']\n",
    "\n",
    "if outfile.exists(): outfile.unlink()"
   ]
  },
  {
   "cell_type": "code",
   "execution_count": null,
   "metadata": {},
   "outputs": [],
   "source": [
    "#| hide\n",
    "import nbdev; nbdev.nbdev_export()"
   ]
  },
  {
   "cell_type": "code",
   "execution_count": null,
   "metadata": {},
   "outputs": [],
   "source": []
  }
 ],
 "metadata": {
  "kernelspec": {
   "display_name": "python3",
   "language": "python",
   "name": "python3"
  }
 },
 "nbformat": 4,
 "nbformat_minor": 4
}
